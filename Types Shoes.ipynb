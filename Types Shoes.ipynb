{
 "cells": [
  {
   "cell_type": "markdown",
   "metadata": {
    "id": "P-JX1BbBAKs-",
    "jp-MarkdownHeadingCollapsed": true
   },
   "source": [
    "#### **Import Library**"
   ]
  },
  {
   "cell_type": "code",
   "execution_count": null,
   "metadata": {
    "id": "cBDYaG-U3Pgj"
   },
   "outputs": [],
   "source": [
    "import Augmentor\n",
    "\n",
    "import numpy as np\n",
    "import cv2, glob, random\n",
    "import matplotlib.pyplot as plt\n",
    "\n",
    "from keras.models import Model, Sequential\n",
    "from keras.layers import Conv2D, MaxPooling2D, Dense, Flatten"
   ]
  },
  {
   "cell_type": "markdown",
   "metadata": {
    "id": "sRgUN2c0AQQ6",
    "jp-MarkdownHeadingCollapsed": true
   },
   "source": [
    "#### **Dataset Preparation**"
   ]
  },
  {
   "cell_type": "markdown",
   "metadata": {
    "id": "XX2OVoqKAYUM"
   },
   "source": [
    "###### **Augmentation Data**"
   ]
  },
  {
   "cell_type": "code",
   "execution_count": null,
   "metadata": {
    "colab": {
     "base_uri": "https://localhost:8080/"
    },
    "id": "8jrl3xI_3jIS",
    "outputId": "108a0f37-e84c-46f0-b157-201fb7a01fc0"
   },
   "outputs": [],
   "source": [
    "def perbanyak(ini, sebanyak_ini):\n",
    "  p = Augmentor.Pipeline(source_directory=ini, output_directory='.')\n",
    "  p.random_distortion(probability=1, grid_width=4, grid_height=4, magnitude=1)\n",
    "  p.rotate(probability=0.7, max_left_rotation=12, max_right_rotation=12)\n",
    "  p.zoom_random(probability=0.7, percentage_area=0.9)\n",
    "  p.resize(probability=1, width=64, height=64)\n",
    "  p.sample(sebanyak_ini)\n",
    "\n",
    "perbanyak(\"shoes-dataset/0_Sneakers\", 3000)\n",
    "perbanyak(\"shoes-dataset/1_FlatShoes\", 3000)\n",
    "perbanyak(\"shoes-dataset/2_SlipOn\", 3000)\n",
    "perbanyak(\"shoes-dataset/3_RunningShoes\", 3000)\n",
    "perbanyak(\"shoes-dataset/4_Sandals\", 3000)\n",
    "perbanyak(\"shoes-dataset/5_KittenHeels\", 3000)"
   ]
  },
  {
   "cell_type": "markdown",
   "metadata": {
    "id": "e6Isa3vZAfY1"
   },
   "source": [
    "###### **Split Dataset**"
   ]
  },
  {
   "cell_type": "code",
   "execution_count": null,
   "metadata": {
    "id": "hIH4y2dT8ZLA"
   },
   "outputs": [],
   "source": [
    "x = []\n",
    "y = []\n",
    "\n",
    "for alamat_gambar in glob.glob(\"shoes-dataset/0_Sneakers/*.jpeg\"):\n",
    "  gambar = cv2.imread(alamat_gambar)\n",
    "  gambar = cv2.resize(gambar, (64, 64))/255\n",
    "  x.append(gambar)\n",
    "  y.append(0)\n",
    "\n",
    "for alamat_gambar in glob.glob(\"shoes-dataset/1_FlatShoes/*.jpeg\"):\n",
    "  gambar = cv2.imread(alamat_gambar)\n",
    "  gambar = cv2.resize(gambar, (64, 64))/255\n",
    "  x.append(gambar)\n",
    "  y.append(1)\n",
    "\n",
    "for alamat_gambar in glob.glob(\"shoes-dataset/2_SlipOn/*.jpeg\"):\n",
    "  gambar = cv2.imread(alamat_gambar)\n",
    "  gambar = cv2.resize(gambar, (64, 64))/255\n",
    "  x.append(gambar)\n",
    "  y.append(2)\n",
    "\n",
    "for alamat_gambar in glob.glob(\"shoes-dataset/3_RunningShoes/*.jpeg\"):\n",
    "  gambar = cv2.imread(alamat_gambar)\n",
    "  gambar = cv2.resize(gambar, (64, 64))/255\n",
    "  x.append(gambar)\n",
    "  y.append(3)\n",
    "\n",
    "for alamat_gambar in glob.glob(\"shoes-dataset/4_Sandals/*.jpeg\"):\n",
    "  gambar = cv2.imread(alamat_gambar)\n",
    "  gambar = cv2.resize(gambar, (64, 64))/255\n",
    "  x.append(gambar)\n",
    "  y.append(4)\n",
    "\n",
    "for alamat_gambar in glob.glob(\"shoes-dataset/5_KittenHeels/*.jpeg\"):\n",
    "  gambar = cv2.imread(alamat_gambar)\n",
    "  gambar = cv2.resize(gambar, (64, 64))/255\n",
    "  x.append(gambar)\n",
    "  y.append(5)\n",
    "\n",
    "z = list(zip(x, y))\n",
    "\n",
    "random.shuffle(z)\n",
    "\n",
    "x, y = zip(*z)\n",
    "\n",
    "x = np.asarray(x)\n",
    "y = np.asarray(y)"
   ]
  },
  {
   "cell_type": "markdown",
   "metadata": {
    "id": "0pLiCyHXAmh8",
    "jp-MarkdownHeadingCollapsed": true
   },
   "source": [
    "#### **Model**"
   ]
  },
  {
   "cell_type": "markdown",
   "metadata": {
    "id": "tWtMO3dMAsNY"
   },
   "source": [
    "###### **Preparing the Model**"
   ]
  },
  {
   "cell_type": "code",
   "execution_count": null,
   "metadata": {
    "colab": {
     "base_uri": "https://localhost:8080/"
    },
    "id": "kW8RhHMa9Ugj",
    "outputId": "dc0fd43b-9387-43ed-e79d-9e1ad79f3968"
   },
   "outputs": [
    {
     "name": "stdout",
     "output_type": "stream",
     "text": [
      "Model: \"sequential\"\n",
      "_________________________________________________________________\n",
      " Layer (type)                Output Shape              Param #   \n",
      "=================================================================\n",
      " conv2d (Conv2D)             (None, 62, 62, 16)        448       \n",
      "                                                                 \n",
      " max_pooling2d (MaxPooling2D  (None, 31, 31, 16)       0         \n",
      " )                                                               \n",
      "                                                                 \n",
      " conv2d_1 (Conv2D)           (None, 29, 29, 32)        4640      \n",
      "                                                                 \n",
      " max_pooling2d_1 (MaxPooling  (None, 14, 14, 32)       0         \n",
      " 2D)                                                             \n",
      "                                                                 \n",
      " conv2d_2 (Conv2D)           (None, 12, 12, 64)        18496     \n",
      "                                                                 \n",
      " max_pooling2d_2 (MaxPooling  (None, 6, 6, 64)         0         \n",
      " 2D)                                                             \n",
      "                                                                 \n",
      " conv2d_3 (Conv2D)           (None, 4, 4, 128)         73856     \n",
      "                                                                 \n",
      " max_pooling2d_3 (MaxPooling  (None, 2, 2, 128)        0         \n",
      " 2D)                                                             \n",
      "                                                                 \n",
      " flatten (Flatten)           (None, 512)               0         \n",
      "                                                                 \n",
      " dense (Dense)               (None, 22)                11286     \n",
      "                                                                 \n",
      " dense_1 (Dense)             (None, 6)                 138       \n",
      "                                                                 \n",
      "=================================================================\n",
      "Total params: 108,864\n",
      "Trainable params: 108,864\n",
      "Non-trainable params: 0\n",
      "_________________________________________________________________\n"
     ]
    }
   ],
   "source": [
    "model = Sequential()\n",
    "\n",
    "model.add(Conv2D(16, (3, 3), input_shape=(64, 64, 3), activation='relu'))\n",
    "model.add(MaxPooling2D(2, 2))\n",
    "model.add(Conv2D(32, (3, 3), activation='relu'))\n",
    "model.add(MaxPooling2D(2, 2))\n",
    "model.add(Conv2D(64, (3, 3), activation='relu'))\n",
    "model.add(MaxPooling2D(2, 2))\n",
    "model.add(Conv2D(128, (3, 3), activation='relu'))\n",
    "model.add(MaxPooling2D(2, 2))\n",
    "\n",
    "model.add(Flatten())\n",
    "\n",
    "model.add(Dense(22, activation='relu'))\n",
    "model.add(Dense(6, activation='softmax'))\n",
    "\n",
    "model.compile(optimizer='adam', loss='sparse_categorical_crossentropy', metrics=['accuracy'])\n",
    "\n",
    "model.summary()"
   ]
  },
  {
   "cell_type": "markdown",
   "metadata": {
    "id": "Ptin_k8rAxVQ"
   },
   "source": [
    "###### **Model Training**"
   ]
  },
  {
   "cell_type": "code",
   "execution_count": null,
   "metadata": {
    "colab": {
     "base_uri": "https://localhost:8080/"
    },
    "id": "WCL-XmMg-FGs",
    "outputId": "1fea44a2-dd1d-4395-98e9-f98507108b47"
   },
   "outputs": [
    {
     "name": "stdout",
     "output_type": "stream",
     "text": [
      "Epoch 1/10\n",
      "17010/17010 [==============================] - 72s 4ms/step - loss: 1.3352 - accuracy: 0.4644 - val_loss: 0.8138 - val_accuracy: 0.7069\n",
      "Epoch 2/10\n",
      "17010/17010 [==============================] - 64s 4ms/step - loss: 0.6106 - accuracy: 0.7857 - val_loss: 0.4329 - val_accuracy: 0.8492\n",
      "Epoch 3/10\n",
      "17010/17010 [==============================] - 63s 4ms/step - loss: 0.3564 - accuracy: 0.8822 - val_loss: 0.3543 - val_accuracy: 0.8905\n",
      "Epoch 4/10\n",
      "17010/17010 [==============================] - 64s 4ms/step - loss: 0.2653 - accuracy: 0.9142 - val_loss: 0.3083 - val_accuracy: 0.9074\n",
      "Epoch 5/10\n",
      "17010/17010 [==============================] - 64s 4ms/step - loss: 0.2216 - accuracy: 0.9317 - val_loss: 0.3477 - val_accuracy: 0.8995\n",
      "Epoch 6/10\n",
      "17010/17010 [==============================] - 64s 4ms/step - loss: 0.1981 - accuracy: 0.9412 - val_loss: 0.2326 - val_accuracy: 0.9317\n",
      "Epoch 7/10\n",
      "17010/17010 [==============================] - 62s 4ms/step - loss: 0.1900 - accuracy: 0.9435 - val_loss: 0.2884 - val_accuracy: 0.9196\n",
      "Epoch 8/10\n",
      "17010/17010 [==============================] - 62s 4ms/step - loss: 0.1725 - accuracy: 0.9495 - val_loss: 0.2903 - val_accuracy: 0.9201\n",
      "Epoch 9/10\n",
      "17010/17010 [==============================] - 64s 4ms/step - loss: 0.1633 - accuracy: 0.9550 - val_loss: 0.4233 - val_accuracy: 0.8905\n",
      "Epoch 10/10\n",
      "17010/17010 [==============================] - 64s 4ms/step - loss: 0.1639 - accuracy: 0.9544 - val_loss: 0.2039 - val_accuracy: 0.9471\n",
      "dict_keys(['loss', 'accuracy', 'val_loss', 'val_accuracy'])\n"
     ]
    }
   ],
   "source": [
    "history = model.fit(x, y, batch_size=1, epochs=10, validation_split=0.1)\n",
    "\n",
    "print(history.history.keys())"
   ]
  },
  {
   "cell_type": "markdown",
   "metadata": {
    "id": "cXjEG7FU4iTJ"
   },
   "source": [
    "###### **Model Visualization**"
   ]
  },
  {
   "cell_type": "code",
   "execution_count": null,
   "metadata": {
    "colab": {
     "base_uri": "https://localhost:8080/",
     "height": 350
    },
    "id": "zSBuQ4nk4nFE",
    "outputId": "8f22bcae-09c6-413f-ff6b-04063caa0294"
   },
   "outputs": [
    {
     "data": {
      "image/png": "[encoded data removed]",
      "text/plain": [
       "<Figure size 720x360 with 1 Axes>"
      ]
     },
     "metadata": {
      "needs_background": "light"
     },
     "output_type": "display_data"
    }
   ],
   "source": [
    "plt.figure(figsize=(10,5))\n",
    "\n",
    "plt.plot(history.history['accuracy'])\n",
    "plt.plot(history.history['val_accuracy'])\n",
    "plt.plot(history.history['loss'])\n",
    "plt.plot(history.history['val_loss'])\n",
    "\n",
    "plt.title('Model Accuracy and Loss')\n",
    "\n",
    "plt.ylabel('Accuracy and Loss')\n",
    "plt.xlabel('Epoch')\n",
    "\n",
    "plt.legend(['train_acc', 'test_acc', 'train_loss', 'val_loss'], loc='upper right')\n",
    "\n",
    "plt.show()"
   ]
  },
  {
   "cell_type": "code",
   "execution_count": null,
   "metadata": {
    "colab": {
     "base_uri": "https://localhost:8080/",
     "height": 295
    },
    "id": "s1GONkMW4y_0",
    "outputId": "342e2044-cbc3-4539-8efd-bdadfb967995"
   },
   "outputs": [
    {
     "data": {
      "image/png": "[encoded data removed]",
      "text/plain": [
       "<Figure size 432x288 with 1 Axes>"
      ]
     },
     "metadata": {
      "needs_background": "light"
     },
     "output_type": "display_data"
    }
   ],
   "source": [
    "plt.plot(history.history['loss'])\n",
    "plt.plot(history.history['val_loss'])\n",
    "\n",
    "plt.title('Model Loss')\n",
    "\n",
    "plt.ylabel('Loss')\n",
    "plt.xlabel('Epoch')\n",
    "\n",
    "plt.legend(['train', 'test'], loc='upper left')\n",
    "\n",
    "plt.show()"
   ]
  },
  {
   "cell_type": "markdown",
   "metadata": {
    "id": "B0aYxxqCA77l"
   },
   "source": [
    "###### **Save Model**"
   ]
  },
  {
   "cell_type": "code",
   "execution_count": null,
   "metadata": {
    "id": "4caFMh57_Mzv"
   },
   "outputs": [],
   "source": [
    "model.save_weights('types-shoes-model.h5')"
   ]
  },
  {
   "cell_type": "markdown",
   "metadata": {
    "id": "yfv_X4wBKLhm"
   },
   "source": [
    "###### **Load Model**"
   ]
  },
  {
   "cell_type": "code",
   "execution_count": null,
   "metadata": {
    "id": "0zGkPE5nKRV9"
   },
   "outputs": [],
   "source": [
    "model.load_weights(\"types-shoes-model.h5\")"
   ]
  },
  {
   "cell_type": "markdown",
   "metadata": {
    "id": "ii5SpBF-A22A",
    "jp-MarkdownHeadingCollapsed": true
   },
   "source": [
    "#### **Testing**"
   ]
  },
  {
   "cell_type": "code",
   "execution_count": null,
   "metadata": {
    "colab": {
     "base_uri": "https://localhost:8080/"
    },
    "id": "7IxdFtvS-Oip",
    "outputId": "b5947aee-5a5f-45e2-bc4a-dd8ad0e44beb"
   },
   "outputs": [
    {
     "name": "stdout",
     "output_type": "stream",
     "text": [
      "1/1 [==============================] - 0s 384ms/step\n"
     ]
    },
    {
     "data": {
      "text/plain": [
       "['Sneakers',\n",
       " 'Flat Shoes',\n",
       " 'Slip On',\n",
       " 'Running Shoes',\n",
       " 'Sepatu Sandal',\n",
       " 'Kitten Heels']"
      ]
     },
     "execution_count": 6,
     "metadata": {},
     "output_type": "execute_result"
    }
   ],
   "source": [
    "kamus = {0: \"Sneakers\", 1: \"Flat Shoes\", 2: \"Slip On\", 3: \"Running Shoes\", 4: \"Sandals\", 5: \"Kitten Heels\"}\n",
    "\n",
    "x_test = []\n",
    "\n",
    "ini = cv2.resize(cv2.imread(\"image-test/0.jpeg\"), (64, 64))/255\n",
    "x_test.append(ini)\n",
    "\n",
    "ini = cv2.resize(cv2.imread(\"image-test/1.jpeg\"), (64, 64))/255\n",
    "x_test.append(ini)\n",
    "\n",
    "ini = cv2.resize(cv2.imread(\"image-test/2.jpeg\"), (64, 64))/255\n",
    "x_test.append(ini)\n",
    "\n",
    "ini = cv2.resize(cv2.imread(\"image-test/3.jpeg\"), (64, 64))/255\n",
    "x_test.append(ini)\n",
    "\n",
    "ini = cv2.resize(cv2.imread(\"image-test/4.jpeg\"), (64, 64))/255\n",
    "x_test.append(ini)\n",
    "\n",
    "ini = cv2.resize(cv2.imread(\"image-test/5.jpeg\"), (64, 64))/255\n",
    "x_test.append(ini)\n",
    "\n",
    "x_test = np.asarray(x_test)\n",
    "\n",
    "y_pred = model.predict(x_test)\n",
    "y_pred = np.argmax(y_pred, axis=1)\n",
    "\n",
    "[kamus[_] for _ in y_pred]"
   ]
  },
  {
   "cell_type": "code",
   "execution_count": null,
   "metadata": {
    "colab": {
     "base_uri": "https://localhost:8080/"
    },
    "id": "haStBxiXSifX",
    "outputId": "23bb737c-a20e-4619-aa77-fe1eccab7439"
   },
   "outputs": [
    {
     "name": "stdout",
     "output_type": "stream",
     "text": [
      "1/1 [==============================] - 0s 20ms/step\n"
     ]
    },
    {
     "data": {
      "text/plain": [
       "['Sepatu Sandal']"
      ]
     },
     "execution_count": 7,
     "metadata": {},
     "output_type": "execute_result"
    }
   ],
   "source": [
    "x_test2 = []\n",
    "\n",
    "ini = cv2.resize(cv2.imread(\"image-test/test.jpeg\"), (64, 64))/255\n",
    "x_test2.append(ini)\n",
    "\n",
    "x_test2 = np.asarray(x_test2)\n",
    "\n",
    "y_pred2 = model.predict(x_test2)\n",
    "y_pred2 = np.argmax(y_pred2, axis=1)\n",
    "\n",
    "[kamus[_] for _ in y_pred2]"
   ]
  },
  {
   "cell_type": "code",
   "execution_count": null,
   "metadata": {
    "colab": {
     "base_uri": "https://localhost:8080/"
    },
    "id": "Oh33EA0I5UrO",
    "outputId": "854ee2f8-5414-4fb8-f422-f6ff2cafc273"
   },
   "outputs": [
    {
     "name": "stdout",
     "output_type": "stream",
     "text": [
      "1/1 [==============================] - 0s 26ms/step\n"
     ]
    },
    {
     "data": {
      "text/plain": [
       "['Sneakers']"
      ]
     },
     "execution_count": 17,
     "metadata": {},
     "output_type": "execute_result"
    }
   ],
   "source": [
    "x_test2 = []\n",
    "\n",
    "ini = cv2.resize(cv2.imread(\"image-test/images.jpeg\"), (64, 64))/255\n",
    "x_test2.append(ini)\n",
    "\n",
    "x_test2 = np.asarray(x_test2)\n",
    "\n",
    "y_pred2 = model.predict(x_test2)\n",
    "y_pred2 = np.argmax(y_pred2, axis=1)\n",
    "\n",
    "[kamus[_] for _ in y_pred2]"
   ]
  }
 ],
 "metadata": {
  "accelerator": "GPU",
  "colab": {
   "provenance": [],
   "toc_visible": true
  },
  "gpuClass": "standard",
  "kernelspec": {
   "display_name": "Python [conda env:base] *",
   "language": "python",
   "name": "conda-base-py"
  },
  "language_info": {
   "codemirror_mode": {
    "name": "ipython",
    "version": 3
   },
   "file_extension": ".py",
   "mimetype": "text/x-python",
   "name": "python",
   "nbconvert_exporter": "python",
   "pygments_lexer": "ipython3",
   "version": "3.12.7"
  }
 },
 "nbformat": 4,
 "nbformat_minor": 4
}
